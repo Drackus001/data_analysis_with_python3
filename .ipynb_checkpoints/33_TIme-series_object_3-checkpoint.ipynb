{
 "cells": [
  {
   "cell_type": "code",
   "execution_count": 1,
   "metadata": {},
   "outputs": [],
   "source": [
    "# Importing Libraries\n",
    "import pandas as pd\n",
    "import numpy as np\n",
    "import datetime\n",
    "from datetime import datetime"
   ]
  },
  {
   "cell_type": "code",
   "execution_count": 2,
   "metadata": {},
   "outputs": [
    {
     "data": {
      "text/plain": [
       "2009-02-25     1\n",
       "2009-02-26     2\n",
       "2009-02-27     3\n",
       "2009-02-28     4\n",
       "2009-03-01     5\n",
       "2009-03-02     6\n",
       "2009-03-03     7\n",
       "2009-03-04     8\n",
       "2009-03-05     9\n",
       "2009-03-06    10\n",
       "Freq: D, dtype: int64"
      ]
     },
     "execution_count": 2,
     "metadata": {},
     "output_type": "execute_result"
    }
   ],
   "source": [
    "range = pd.date_range(\"2009-02-25\", periods = 10) # automatically increment days by 1 to the specific period/days\n",
    "Series1 = pd.Series([1,2,3,4,5,6,7,8,9,10], range)\n",
    "Series1"
   ]
  },
  {
   "cell_type": "code",
   "execution_count": 4,
   "metadata": {},
   "outputs": [
    {
     "data": {
      "text/plain": [
       "2"
      ]
     },
     "execution_count": 4,
     "metadata": {},
     "output_type": "execute_result"
    }
   ],
   "source": [
    "Series1['2009/2/26'] # Here 2009/2/26 is key"
   ]
  },
  {
   "cell_type": "code",
   "execution_count": 5,
   "metadata": {},
   "outputs": [
    {
     "data": {
      "text/plain": [
       "2009-02-25    1\n",
       "2009-02-26    2\n",
       "2009-02-27    3\n",
       "2009-02-28    4\n",
       "Freq: D, dtype: int64"
      ]
     },
     "execution_count": 5,
     "metadata": {},
     "output_type": "execute_result"
    }
   ],
   "source": [
    "Series1['2009-2'] # only for 2nd month"
   ]
  },
  {
   "cell_type": "code",
   "execution_count": 6,
   "metadata": {},
   "outputs": [
    {
     "data": {
      "text/plain": [
       "2009-03-01     5\n",
       "2009-03-02     6\n",
       "2009-03-03     7\n",
       "2009-03-04     8\n",
       "2009-03-05     9\n",
       "2009-03-06    10\n",
       "Freq: D, dtype: int64"
      ]
     },
     "execution_count": 6,
     "metadata": {},
     "output_type": "execute_result"
    }
   ],
   "source": [
    "Series1['2009/3'] # only for 3rd month"
   ]
  },
  {
   "cell_type": "code",
   "execution_count": 8,
   "metadata": {},
   "outputs": [
    {
     "data": {
      "text/plain": [
       "2009-02-25     1\n",
       "2009-02-26     2\n",
       "2009-02-27     3\n",
       "2009-03-02     4\n",
       "2009-03-03     5\n",
       "2009-03-04     6\n",
       "2009-03-05     7\n",
       "2009-03-06     8\n",
       "2009-03-09     9\n",
       "2009-03-10    10\n",
       "Freq: B, dtype: int64"
      ]
     },
     "execution_count": 8,
     "metadata": {},
     "output_type": "execute_result"
    }
   ],
   "source": [
    "# Freq B = Business (neglet holidays)\n",
    "Series2 = pd.Series([1,2,3,4,5,6,7,8,9,10], pd.date_range(\"2009-02-25\", \"2009-3-10\",freq=\"B\"))\n",
    "Series2"
   ]
  },
  {
   "cell_type": "code",
   "execution_count": 9,
   "metadata": {},
   "outputs": [
    {
     "data": {
      "text/plain": [
       "2009-03-01    1\n",
       "2009-03-08    2\n",
       "Freq: W-SUN, dtype: int64"
      ]
     },
     "execution_count": 9,
     "metadata": {},
     "output_type": "execute_result"
    }
   ],
   "source": [
    "# Freq W = Week (starting date of week)\n",
    "Series3 = pd.Series([1,2], pd.date_range(\"2009-02-25\", \"2009-3-10\",freq=\"W\"))\n",
    "Series3"
   ]
  },
  {
   "cell_type": "code",
   "execution_count": 11,
   "metadata": {},
   "outputs": [
    {
     "data": {
      "text/plain": [
       "2008-02-29    1\n",
       "2008-03-31    2\n",
       "Freq: M, dtype: int64"
      ]
     },
     "execution_count": 11,
     "metadata": {},
     "output_type": "execute_result"
    }
   ],
   "source": [
    "# Freq M = Month (Ending date of Month)\n",
    "Series4 = pd.Series([1,2], pd.date_range(\"2008-02-25\", \"2008-4-10\",freq=\"M\"))\n",
    "Series4"
   ]
  },
  {
   "cell_type": "code",
   "execution_count": 12,
   "metadata": {},
   "outputs": [
    {
     "data": {
      "text/plain": [
       "Timestamp('2009-02-27 00:00:00')"
      ]
     },
     "execution_count": 12,
     "metadata": {},
     "output_type": "execute_result"
    }
   ],
   "source": [
    "Date = datetime (2009,2,26)\n",
    "Offset = pd.DateOffset(days = 1)\n",
    "Date + Offset"
   ]
  },
  {
   "cell_type": "code",
   "execution_count": 13,
   "metadata": {},
   "outputs": [
    {
     "data": {
      "text/plain": [
       "Timestamp('2009-02-27 00:00:00')"
      ]
     },
     "execution_count": 13,
     "metadata": {},
     "output_type": "execute_result"
    }
   ],
   "source": [
    "from pandas.tseries.offsets import *\n",
    "Date + BusinessDay()"
   ]
  },
  {
   "cell_type": "code",
   "execution_count": 15,
   "metadata": {},
   "outputs": [
    {
     "data": {
      "text/plain": [
       "<BusinessDay>"
      ]
     },
     "execution_count": 15,
     "metadata": {},
     "output_type": "execute_result"
    }
   ],
   "source": [
    "BusinessDay()"
   ]
  },
  {
   "cell_type": "code",
   "execution_count": 19,
   "metadata": {},
   "outputs": [
    {
     "data": {
      "text/plain": [
       "Timestamp('2009-02-27 00:00:00')"
      ]
     },
     "execution_count": 19,
     "metadata": {},
     "output_type": "execute_result"
    }
   ],
   "source": [
    "Date + BMonthEnd()"
   ]
  },
  {
   "cell_type": "code",
   "execution_count": 20,
   "metadata": {},
   "outputs": [
    {
     "data": {
      "text/plain": [
       "Timestamp('2009-03-31 00:00:00')"
      ]
     },
     "execution_count": 20,
     "metadata": {},
     "output_type": "execute_result"
    }
   ],
   "source": [
    "BMonthEnd().rollforward(datetime(2009,3,26)) #rollforward specifies the moving direction."
   ]
  },
  {
   "cell_type": "code",
   "execution_count": null,
   "metadata": {},
   "outputs": [],
   "source": []
  }
 ],
 "metadata": {
  "kernelspec": {
   "display_name": "Python 3",
   "language": "python",
   "name": "python3"
  },
  "language_info": {
   "codemirror_mode": {
    "name": "ipython",
    "version": 3
   },
   "file_extension": ".py",
   "mimetype": "text/x-python",
   "name": "python",
   "nbconvert_exporter": "python",
   "pygments_lexer": "ipython3",
   "version": "3.7.3"
  }
 },
 "nbformat": 4,
 "nbformat_minor": 2
}
