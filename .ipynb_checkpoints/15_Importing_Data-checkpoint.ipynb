{
 "cells": [
  {
   "cell_type": "code",
   "execution_count": 1,
   "metadata": {},
   "outputs": [],
   "source": [
    "# Importing pandas and numpy Libraries.\n",
    "import pandas as pd\n",
    "import numpy as np"
   ]
  },
  {
   "cell_type": "code",
   "execution_count": null,
   "metadata": {},
   "outputs": [],
   "source": [
    "# Creating sales.\n",
    "Sales1 = pd.Series([100, 200, 300, 400], index=[\"Google\", \"Microsoft\", \"Yahoo\", \"Facebook\"])\n",
    "Sales2 = pd.Series([150, 210, 390, 500], index=[\"Google\", \"Microsoft\", \"Yahoo\", \"Facebook\"])\n",
    "Sales3 = pd.Series([550, 310, 490, 700], index=[\"Google\", \"Microsoft\", \"Yahoo\", \"Facebook\"])"
   ]
  }
 ],
 "metadata": {
  "kernelspec": {
   "display_name": "Python 3",
   "language": "python",
   "name": "python3"
  },
  "language_info": {
   "codemirror_mode": {
    "name": "ipython",
    "version": 3
   },
   "file_extension": ".py",
   "mimetype": "text/x-python",
   "name": "python",
   "nbconvert_exporter": "python",
   "pygments_lexer": "ipython3",
   "version": "3.7.3"
  }
 },
 "nbformat": 4,
 "nbformat_minor": 2
}
