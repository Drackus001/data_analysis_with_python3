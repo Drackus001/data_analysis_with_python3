{
 "cells": [
  {
   "cell_type": "code",
   "execution_count": 1,
   "metadata": {},
   "outputs": [],
   "source": [
    "# Importing Libraries\n",
    "import pandas as pd\n",
    "import numpy as np\n",
    "import datetime\n",
    "from datetime import datetime"
   ]
  },
  {
   "cell_type": "code",
   "execution_count": 2,
   "metadata": {},
   "outputs": [
    {
     "data": {
      "text/plain": [
       "0    1\n",
       "1    2\n",
       "2    3\n",
       "dtype: int64"
      ]
     },
     "execution_count": 2,
     "metadata": {},
     "output_type": "execute_result"
    }
   ],
   "source": [
    "Series1 = pd.Series([1, 2, 3])\n",
    "Series1"
   ]
  },
  {
   "cell_type": "code",
   "execution_count": 3,
   "metadata": {},
   "outputs": [
    {
     "data": {
      "text/plain": [
       "[Timestamp('2009-02-15 00:00:00'),\n",
       " Timestamp('2009-02-16 00:00:00'),\n",
       " Timestamp('2009-02-17 00:00:00')]"
      ]
     },
     "execution_count": 3,
     "metadata": {},
     "output_type": "execute_result"
    }
   ],
   "source": [
    "Dates = [pd.Timestamp(2009,2,15), pd.Timestamp(2009,2,16), pd.Timestamp(2009,2,17)]\n",
    "Dates"
   ]
  },
  {
   "cell_type": "code",
   "execution_count": 4,
   "metadata": {},
   "outputs": [
    {
     "data": {
      "text/plain": [
       "2009-02-15    1\n",
       "2009-02-16    2\n",
       "2009-02-17    3\n",
       "dtype: int64"
      ]
     },
     "execution_count": 4,
     "metadata": {},
     "output_type": "execute_result"
    }
   ],
   "source": [
    "Series1 = pd.Series([1, 2, 3], Dates)\n",
    "Series1"
   ]
  },
  {
   "cell_type": "code",
   "execution_count": 6,
   "metadata": {},
   "outputs": [
    {
     "data": {
      "text/plain": [
       "pandas._libs.tslibs.timestamps.Timestamp"
      ]
     },
     "execution_count": 6,
     "metadata": {},
     "output_type": "execute_result"
    }
   ],
   "source": [
    "type(Series1.index[1])"
   ]
  },
  {
   "cell_type": "code",
   "execution_count": 8,
   "metadata": {},
   "outputs": [
    {
     "data": {
      "text/plain": [
       "DatetimeIndex(['2009-02-15', 'NaT', '2009-02-16', '2009-02-17', '2009-02-18'], dtype='datetime64[ns]', freq=None)"
      ]
     },
     "execution_count": 8,
     "metadata": {},
     "output_type": "execute_result"
    }
   ],
   "source": [
    "Dt_index = pd.to_datetime([\"Feb 15, 2009\", None,\"2009.2.16\", \"2009-02-17\", \"2009/02/18\"])\n",
    "Dt_index # to_datetime([]) automatically converts string into object."
   ]
  },
  {
   "cell_type": "code",
   "execution_count": 9,
   "metadata": {},
   "outputs": [
    {
     "data": {
      "text/plain": [
       "2009-02-25     1\n",
       "2009-02-26     2\n",
       "2009-02-27     3\n",
       "2009-02-28     4\n",
       "2009-03-01     5\n",
       "2009-03-02     6\n",
       "2009-03-03     7\n",
       "2009-03-04     8\n",
       "2009-03-05     9\n",
       "2009-03-06    10\n",
       "Freq: D, dtype: int64"
      ]
     },
     "execution_count": 9,
     "metadata": {},
     "output_type": "execute_result"
    }
   ],
   "source": [
    "range = pd.date_range(\"2009-02-25\", periods = 10) # automatically increment days by 1 to the specific period/days\n",
    "Series2 = pd.Series([1,2,3,4,5,6,7,8,9,10], range)\n",
    "Series2"
   ]
  },
  {
   "cell_type": "code",
   "execution_count": 11,
   "metadata": {},
   "outputs": [
    {
     "data": {
      "text/plain": [
       "2009-02-27    3\n",
       "2009-02-28    4\n",
       "2009-03-01    5\n",
       "Freq: D, dtype: int64"
      ]
     },
     "execution_count": 11,
     "metadata": {},
     "output_type": "execute_result"
    }
   ],
   "source": [
    "Slice = Series2[2:5]\n",
    "Slice"
   ]
  },
  {
   "cell_type": "code",
   "execution_count": 12,
   "metadata": {},
   "outputs": [
    {
     "data": {
      "text/plain": [
       "2009-02-27    3\n",
       "2009-02-28    4\n",
       "2009-03-01    5\n",
       "Freq: D, dtype: int64"
      ]
     },
     "execution_count": 12,
     "metadata": {},
     "output_type": "execute_result"
    }
   ],
   "source": [
    "Slice2 = Series2[\"2009-02-27\":\"2009-03-01\"]\n",
    "Slice2"
   ]
  },
  {
   "cell_type": "code",
   "execution_count": 13,
   "metadata": {},
   "outputs": [
    {
     "data": {
      "text/plain": [
       "2009-02-25     NaN\n",
       "2009-02-26     NaN\n",
       "2009-02-27     6.0\n",
       "2009-02-28     8.0\n",
       "2009-03-01    10.0\n",
       "2009-03-02     NaN\n",
       "2009-03-03     NaN\n",
       "2009-03-04     NaN\n",
       "2009-03-05     NaN\n",
       "2009-03-06     NaN\n",
       "Freq: D, dtype: float64"
      ]
     },
     "execution_count": 13,
     "metadata": {},
     "output_type": "execute_result"
    }
   ],
   "source": [
    "Series2 + Slice2 # addition of Series and Slice"
   ]
  },
  {
   "cell_type": "code",
   "execution_count": null,
   "metadata": {},
   "outputs": [],
   "source": []
  }
 ],
 "metadata": {
  "kernelspec": {
   "display_name": "Python 3",
   "language": "python",
   "name": "python3"
  },
  "language_info": {
   "codemirror_mode": {
    "name": "ipython",
    "version": 3
   },
   "file_extension": ".py",
   "mimetype": "text/x-python",
   "name": "python",
   "nbconvert_exporter": "python",
   "pygments_lexer": "ipython3",
   "version": "3.7.3"
  }
 },
 "nbformat": 4,
 "nbformat_minor": 2
}
